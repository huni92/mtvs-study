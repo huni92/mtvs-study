{
 "cells": [
  {
   "cell_type": "markdown",
   "metadata": {},
   "source": [
    "# 간단한 LLM 애플리케이션 만들기"
   ]
  },
  {
   "cell_type": "markdown",
   "metadata": {},
   "source": [
    "## 1. 환경변수 로드 및 랭스미스 연결"
   ]
  },
  {
   "cell_type": "code",
   "execution_count": 8,
   "metadata": {},
   "outputs": [
    {
     "data": {
      "text/plain": [
       "True"
      ]
     },
     "execution_count": 8,
     "metadata": {},
     "output_type": "execute_result"
    }
   ],
   "source": [
    "from dotenv import load_dotenv\n",
    "\n",
    "load_dotenv(dotenv_path=\"../99_env/.env\")"
   ]
  },
  {
   "cell_type": "markdown",
   "metadata": {},
   "source": [
    "## 2. LLM 모델 로드"
   ]
  },
  {
   "cell_type": "code",
   "execution_count": 9,
   "metadata": {},
   "outputs": [],
   "source": [
    "from langchain_openai import ChatOpenAI\n",
    "\n",
    "model = ChatOpenAI(\n",
    "    model_name=\"gpt-4o-mini\",\n",
    "    temperature=0.1     # 창의성 (0.0 ~ 2.0) 매번 물어볼때 마다 다른 값은 2쪽으로 가깝고 정확한 값을 알려주는건 0에 가깝다\n",
    ")"
   ]
  },
  {
   "cell_type": "markdown",
   "metadata": {},
   "source": [
    "## 3. 질문 작성"
   ]
  },
  {
   "cell_type": "code",
   "execution_count": 2,
   "metadata": {},
   "outputs": [],
   "source": [
    "question = \"포켓몬스터 중 가장 강력한 몬스터는 어떤 몬스터인가요?\""
   ]
  },
  {
   "cell_type": "markdown",
   "metadata": {},
   "source": [
    "## 4. LLM 추론"
   ]
  },
  {
   "cell_type": "code",
   "execution_count": 11,
   "metadata": {},
   "outputs": [
    {
     "data": {
      "text/plain": [
       "'포켓몬스터 세계에서 가장 강력한 몬스터는 주관적인 의견에 따라 다를 수 있지만, 일반적으로 \"아르세우스\"가 가장 강력한 포켓몬으로 여겨집니다. 아르세우스는 \"신의 포켓몬\"으로 불리며, 모든 포켓몬의 창조자라는 설정을 가지고 있습니다. 또한, 아르세우스는 다양한 타입으로 변할 수 있는 능력을 가지고 있어 매우 유연한 전투 스타일을 자랑합니다.\\n\\n또한, \"메가 레쿠자\"나 \"프리즘 레쿠자\"와 같은 특정 형태의 포켓몬들도 강력한 전투 능력을 가지고 있어 많은 팬들 사이에서 인기가 높습니다. 결국, 어떤 포켓몬이 가장 강력한지는 개인의 취향과 전략에 따라 달라질 수 있습니다.'"
      ]
     },
     "execution_count": 11,
     "metadata": {},
     "output_type": "execute_result"
    }
   ],
   "source": [
    "response = model.invoke(question)\n",
    "\n",
    "response.content"
   ]
  },
  {
   "cell_type": "markdown",
   "metadata": {},
   "source": [
    "## 5. 출력 파서를 이용한 출력"
   ]
  },
  {
   "cell_type": "code",
   "execution_count": 12,
   "metadata": {},
   "outputs": [
    {
     "data": {
      "text/plain": [
       "'포켓몬스터 세계에서 가장 강력한 몬스터는 주관적인 의견에 따라 다를 수 있지만, 일반적으로 \"아르세우스\"가 가장 강력한 포켓몬으로 여겨집니다. 아르세우스는 \"신의 포켓몬\"으로 불리며, 모든 포켓몬의 창조자라는 설정을 가지고 있습니다. 또한, 아르세우스는 다양한 타입으로 변할 수 있는 능력을 가지고 있어 매우 유연한 전투 스타일을 자랑합니다.\\n\\n또한, \"메가 레쿠자\"나 \"프리즘 레쿠자\"와 같은 특정 형태의 포켓몬들도 강력한 전투 능력을 가지고 있어 많은 팬들 사이에서 인기가 높습니다. 결국, 어떤 포켓몬이 가장 강력한지는 개인의 취향과 전략에 따라 달라질 수 있습니다.'"
      ]
     },
     "execution_count": 12,
     "metadata": {},
     "output_type": "execute_result"
    }
   ],
   "source": [
    "from langchain_core.output_parsers import StrOutputParser\n",
    "\n",
    "parser = StrOutputParser()\n",
    "\n",
    "parser.invoke(response)"
   ]
  },
  {
   "cell_type": "markdown",
   "metadata": {},
   "source": [
    "# Appendix"
   ]
  },
  {
   "cell_type": "markdown",
   "metadata": {},
   "source": [
    "1. (|) 연산자를 사용하여 모델 파서 연결"
   ]
  },
  {
   "cell_type": "code",
   "execution_count": 13,
   "metadata": {},
   "outputs": [
    {
     "data": {
      "text/plain": [
       "'포켓몬스터 세계에서 \"가장 강력한\" 몬스터는 상황에 따라 다를 수 있지만, 일반적으로 레전드리 포켓몬(전설의 포켓몬)들이 강력하다고 여겨집니다. 예를 들어, 아르세우스(Arceus)는 \"포켓몬의 신\"으로 불리며, 모든 타입을 가질 수 있는 능력을 가지고 있어 매우 강력한 포켓몬으로 알려져 있습니다.\\n\\n또한, 미티어(메가 진화 포함)와 같은 특정 포켓몬들도 전투에서 매우 강력한 성능을 발휘할 수 있습니다. 예를 들어, 메가 레쿠자(Mega Rayquaza)는 매우 높은 스탯과 강력한 기술을 가지고 있어 많은 대전에서 강력한 존재로 평가받습니다.\\n\\n결국, 포켓몬의 강력함은 타입, 스탯, 기술, 전략 등에 따라 달라지기 때문에 특정 포켓몬을 \"가장 강력하다\"고 단정짓기는 어렵습니다.'"
      ]
     },
     "execution_count": 13,
     "metadata": {},
     "output_type": "execute_result"
    }
   ],
   "source": [
    "chain = model | parser\n",
    "\n",
    "chain.invoke(question)"
   ]
  },
  {
   "cell_type": "markdown",
   "metadata": {},
   "source": [
    "2. 프롬프트 템플릿 사용하기"
   ]
  },
  {
   "cell_type": "code",
   "execution_count": 16,
   "metadata": {},
   "outputs": [
    {
     "data": {
      "text/plain": [
       "'안녕하세요'"
      ]
     },
     "execution_count": 16,
     "metadata": {},
     "output_type": "execute_result"
    }
   ],
   "source": [
    "from langchain_core.prompts import ChatPromptTemplate\n",
    "\n",
    "system_message = \"Translate the following into {language}\"\n",
    "human_message = \"{message}\"\n",
    "\n",
    "prompt_template = ChatPromptTemplate.from_messages(\n",
    "    [\n",
    "        (\"system\", system_message),\n",
    "        (\"user\", human_message)\n",
    "    ]\n",
    ")\n",
    "\n",
    "# prompt_template.invoke({\"language\": \"Korean\", \"message\": \"hello\"})\n",
    "\n",
    "chain = prompt_template | model | parser\n",
    "chain.invoke({\"language\": \"Korean\", \"message\": \"hello\"})"
   ]
  }
 ],
 "metadata": {
  "kernelspec": {
   "display_name": "pystudy_env",
   "language": "python",
   "name": "python3"
  },
  "language_info": {
   "codemirror_mode": {
    "name": "ipython",
    "version": 3
   },
   "file_extension": ".py",
   "mimetype": "text/x-python",
   "name": "python",
   "nbconvert_exporter": "python",
   "pygments_lexer": "ipython3",
   "version": "3.12.5"
  }
 },
 "nbformat": 4,
 "nbformat_minor": 2
}
