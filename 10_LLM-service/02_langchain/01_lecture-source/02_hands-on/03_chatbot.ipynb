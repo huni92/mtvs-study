{
 "cells": [
  {
   "cell_type": "markdown",
   "metadata": {},
   "source": [
    "# 간단한 챗봇 만들기"
   ]
  },
  {
   "cell_type": "markdown",
   "metadata": {},
   "source": [
    "1. 랭스미스 연결"
   ]
  },
  {
   "cell_type": "code",
   "execution_count": 1,
   "metadata": {},
   "outputs": [
    {
     "data": {
      "text/plain": [
       "True"
      ]
     },
     "execution_count": 1,
     "metadata": {},
     "output_type": "execute_result"
    }
   ],
   "source": [
    "from dotenv import load_dotenv\n",
    "\n",
    "load_dotenv(dotenv_path=\"../99_env/.env\")"
   ]
  },
  {
   "cell_type": "markdown",
   "metadata": {},
   "source": [
    "2. 모델 로드"
   ]
  },
  {
   "cell_type": "code",
   "execution_count": 2,
   "metadata": {},
   "outputs": [],
   "source": [
    "from langchain.chat_models import ChatOllama\n",
    "\n",
    "model = ChatOllama(\n",
    "    model=\"gemma2:2b\",\n",
    "    temperature=0.3\n",
    ")"
   ]
  },
  {
   "cell_type": "markdown",
   "metadata": {},
   "source": [
    "3. LLM과 대화하기"
   ]
  },
  {
   "cell_type": "code",
   "execution_count": 3,
   "metadata": {},
   "outputs": [
    {
     "data": {
      "text/plain": [
       "AIMessage(content='안녕하세요, 차은우님! 😊  \\n\\n무엇을 도와드릴까요? 😄 \\n', response_metadata={'model': 'gemma2:2b', 'created_at': '2024-09-06T00:53:52.3070022Z', 'message': {'role': 'assistant', 'content': ''}, 'done_reason': 'stop', 'done': True, 'total_duration': 2921102000, 'load_duration': 2516964500, 'prompt_eval_count': 18, 'prompt_eval_duration': 48016000, 'eval_count': 26, 'eval_duration': 353197000}, id='run-fe8b7044-2788-4f78-8d4a-9b1e0fa8587b-0')"
      ]
     },
     "execution_count": 3,
     "metadata": {},
     "output_type": "execute_result"
    }
   ],
   "source": [
    "from langchain_core.messages import HumanMessage\n",
    "\n",
    "model.invoke([HumanMessage(content=\"안녕? 난 차은우야\")])"
   ]
  },
  {
   "cell_type": "code",
   "execution_count": 4,
   "metadata": {},
   "outputs": [
    {
     "data": {
      "text/plain": [
       "AIMessage(content='저는 Gemma입니다. 😊  무엇을 도와드릴까요? \\n', response_metadata={'model': 'gemma2:2b', 'created_at': '2024-09-06T00:54:30.7695387Z', 'message': {'role': 'assistant', 'content': ''}, 'done_reason': 'stop', 'done': True, 'total_duration': 582458700, 'load_duration': 45903100, 'prompt_eval_count': 16, 'prompt_eval_duration': 255378000, 'eval_count': 20, 'eval_duration': 278956000}, id='run-52ee8095-b78b-40ed-9026-3cd95fd14f70-0')"
      ]
     },
     "execution_count": 4,
     "metadata": {},
     "output_type": "execute_result"
    }
   ],
   "source": [
    "model.invoke([HumanMessage(content=\"내 이름이 뭐라고?\")])"
   ]
  },
  {
   "cell_type": "code",
   "execution_count": 6,
   "metadata": {},
   "outputs": [
    {
     "data": {
      "text/plain": [
       "AIMessage(content='차은우라고 말씀하셨군요! 😄  \\n\\n저도 한국어로 대화할 수 있어서 정말 기쁩니다. 😊 무엇을 도와드릴까요? \\n', response_metadata={'model': 'gemma2:2b', 'created_at': '2024-09-06T00:58:01.4134289Z', 'message': {'role': 'assistant', 'content': ''}, 'done_reason': 'stop', 'done': True, 'total_duration': 979950600, 'load_duration': 54503000, 'prompt_eval_count': 47, 'prompt_eval_duration': 323416000, 'eval_count': 45, 'eval_duration': 597490000}, id='run-68d48221-4819-455e-a248-4d20b742b611-0')"
      ]
     },
     "execution_count": 6,
     "metadata": {},
     "output_type": "execute_result"
    }
   ],
   "source": [
    "from langchain_core.messages import AIMessage\n",
    "\n",
    "model.invoke(\n",
    "    [\n",
    "        HumanMessage(content=\"안녕? 난 차은우야.\"),\n",
    "        AIMessage(content=\"안녕? 차은우야.\"),\n",
    "        HumanMessage(content=\"내 이름이 뭐라고 했지?\")\n",
    "    ]\n",
    ")"
   ]
  }
 ],
 "metadata": {
  "kernelspec": {
   "display_name": "pystudy_env",
   "language": "python",
   "name": "python3"
  },
  "language_info": {
   "codemirror_mode": {
    "name": "ipython",
    "version": 3
   },
   "file_extension": ".py",
   "mimetype": "text/x-python",
   "name": "python",
   "nbconvert_exporter": "python",
   "pygments_lexer": "ipython3",
   "version": "3.12.5"
  }
 },
 "nbformat": 4,
 "nbformat_minor": 2
}
